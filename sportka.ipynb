{
 "cells": [
  {
   "cell_type": "code",
   "execution_count": 4,
   "metadata": {},
   "outputs": [],
   "source": [
    "from random import sample"
   ]
  },
  {
   "cell_type": "code",
   "execution_count": 29,
   "metadata": {},
   "outputs": [],
   "source": [
    "def losuj_cisla(od=1, do=49, pocet=6) -> list:\n",
    "    '''\n",
    "    Funkce vrátí náhodně vygenerovanou sekvenci 'pocet' čísel z intervalu 'od'- 'do'.\n",
    "    Defaultně je interval 1-49 a počet čísel 6.\n",
    "    '''\n",
    "    # pomocí range vyrobíme sekvenci čísel od 1 do 49\n",
    "    sekvence_cisel = range(od, do + 1)\n",
    "    # vracíme náhodně vybraných 6 čísel z této sekvence\n",
    "    return sorted(sample(sekvence_cisel, pocet))"
   ]
  },
  {
   "cell_type": "code",
   "execution_count": 30,
   "metadata": {},
   "outputs": [],
   "source": [
    "def vsad_cisla(od=1, do=49, pocet=6) -> list:\n",
    "    '''\n",
    "    Funkce vrátí list s 'pocet' zadanými čísly uživatelem z intervalu 'od'- 'do'.\n",
    "    '''\n",
    "    vsazena_cisla = []\n",
    "    while len(vsazena_cisla) < pocet:\n",
    "        # vstup od uživatele\n",
    "        inp = input(f\"Zadej číslo od nové {od}-{do}: \")\n",
    "        # kontrola, zda uživatel zadal číslo\n",
    "        if inp.isnumeric():\n",
    "            # pokud ano, přetypujeme na int\n",
    "            cislo = int(inp)\n",
    "        else:\n",
    "            # pokud ne, vypíšeme chybovou hlášku a pokračujeme na další iteraci cyklu\n",
    "            print(f\"Zadaný vstup '{inp}' není číslo!\")\n",
    "            continue\n",
    "        # kontrola, zda je číslo v intervalu 1-49\n",
    "        if not od <= cislo <= do:\n",
    "            print(f\"Zadané číslo '{cislo}' není v intervalu {od}-{do}!\")\n",
    "            continue\n",
    "        # kontrola, zda už bylo číslo zadáno\n",
    "        if cislo not in vsazena_cisla:\n",
    "            # pokud ne, přidáme ho do seznamu vsazených čísel\n",
    "            vsazena_cisla.append(cislo)\n",
    "        else:\n",
    "            print(f\"Číslo '{cislo}' už bylo zadáno!\")\n",
    "    # vracíme seřazený seznam vsazených čísel\n",
    "    return sorted(vsazena_cisla)"
   ]
  },
  {
   "cell_type": "code",
   "execution_count": null,
   "metadata": {},
   "outputs": [
    {
     "name": "stdout",
     "output_type": "stream",
     "text": [
      "Počet losování: 1000000\n",
      "Počet losování: 2000000\n",
      "Počet losování: 3000000\n",
      "Počet losování: 4000000\n",
      "Počet losování: 5000000\n"
     ]
    }
   ],
   "source": [
    "# sázka uživatel\n",
    "vsazena = vsad_cisla()\n",
    "# první losování\n",
    "losovana = losuj_cisla()\n",
    "# čítač počtu losování\n",
    "pocet_losovani = 0\n",
    "# losuj dokud nevyhraju (vsazena == losovana)\n",
    "while vsazena != losovana:\n",
    "    # nové losování\n",
    "    losovana = losuj_cisla()\n",
    "    # přičteme 1 k počtu losování\n",
    "    pocet_losovani += 1\n",
    "    # každé 1 000 000 losování vypíšeme počet losování -> abychom viděli, že program běží\n",
    "    if pocet_losovani % 1000000 == 0:\n",
    "        print(f\"Počet losování: {pocet_losovani}\")\n",
    "# vypíšeme výsledek\n",
    "print(f\"Prosázeno do výhry: {pocet_losovani * 20/1000000} mil Kč\")\n",
    "pocet_sazek_rok = 3 * 2 * 8 * 52\n",
    "print(f\"Prosázeno do výhry: {pocet_losovani / pocet_sazek_rok} let.\")"
   ]
  }
 ],
 "metadata": {
  "kernelspec": {
   "display_name": ".venv",
   "language": "python",
   "name": "python3"
  },
  "language_info": {
   "codemirror_mode": {
    "name": "ipython",
    "version": 3
   },
   "file_extension": ".py",
   "mimetype": "text/x-python",
   "name": "python",
   "nbconvert_exporter": "python",
   "pygments_lexer": "ipython3",
   "version": "3.13.2"
  }
 },
 "nbformat": 4,
 "nbformat_minor": 2
}
