{
 "cells": [
  {
   "cell_type": "code",
   "execution_count": 4,
   "metadata": {},
   "outputs": [],
   "source": [
    "from random import sample"
   ]
  },
  {
   "cell_type": "code",
   "execution_count": 29,
   "metadata": {},
   "outputs": [],
   "source": [
    "def losuj_cisla(od=1, do=49, pocet=6) -> list:\n",
    "    '''\n",
    "    Funkce vrátí náhodně vygenerovanou sekvenci 'pocet' čísel z intervalu 'od'- 'do'.\n",
    "    Defaultně je interval 1-49 a počet čísel 6.\n",
    "    '''\n",
    "    # pomocí range vyrobíme sekvenci čísel od 1 do 49\n",
    "    sekvence_cisel = range(od, do + 1)\n",
    "    # vracíme náhodně vybraných 6 čísel z této sekvence\n",
    "    return sorted(sample(sekvence_cisel, pocet))"
   ]
  },
  {
   "cell_type": "code",
   "execution_count": 30,
   "metadata": {},
   "outputs": [],
   "source": [
    "def vsad_cisla(od=1, do=49, pocet=6) -> list:\n",
    "    '''\n",
    "    Funkce vrátí list s 'pocet' zadanými čísly uživatelem z intervalu 'od'- 'do'.\n",
    "    '''\n",
    "    vsazena_cisla = []\n",
    "    while len(vsazena_cisla) < pocet:\n",
    "        # vstup od uživatele\n",
    "        inp = input(f\"Zadej číslo od nové {od}-{do}: \")\n",
    "        # kontrola, zda uživatel zadal číslo\n",
    "        if inp.isnumeric():\n",
    "            # pokud ano, přetypujeme na int\n",
    "            cislo = int(inp)\n",
    "        else:\n",
    "            # pokud ne, vypíšeme chybovou hlášku a pokračujeme na další iteraci cyklu\n",
    "            print(f\"Zadaný vstup '{inp}' není číslo!\")\n",
    "            continue\n",
    "        # kontrola, zda je číslo v intervalu 1-49\n",
    "        if not od <= cislo <= do:\n",
    "            print(f\"Zadané číslo '{cislo}' není v intervalu {od}-{do}!\")\n",
    "            continue\n",
    "        # kontrola, zda už bylo číslo zadáno\n",
    "        if cislo not in vsazena_cisla:\n",
    "            # pokud ne, přidáme ho do seznamu vsazených čísel\n",
    "            vsazena_cisla.append(cislo)\n",
    "        else:\n",
    "            print(f\"Číslo '{cislo}' už bylo zadáno!\")\n",
    "    # vracíme seřazený seznam vsazených čísel\n",
    "    return sorted(vsazena_cisla)"
   ]
  },
  {
   "cell_type": "code",
   "execution_count": 31,
   "metadata": {},
   "outputs": [
    {
     "data": {
      "text/plain": [
       "[12, 16, 18, 30, 45, 48]"
      ]
     },
     "execution_count": 31,
     "metadata": {},
     "output_type": "execute_result"
    }
   ],
   "source": [
    "losuj_cisla()"
   ]
  },
  {
   "cell_type": "code",
   "execution_count": 32,
   "metadata": {},
   "outputs": [
    {
     "data": {
      "text/plain": [
       "[2, 4, 5, 11, 13, 24]"
      ]
     },
     "execution_count": 32,
     "metadata": {},
     "output_type": "execute_result"
    }
   ],
   "source": [
    "vsad_cisla()"
   ]
  },
  {
   "cell_type": "code",
   "execution_count": null,
   "metadata": {},
   "outputs": [],
   "source": []
  }
 ],
 "metadata": {
  "kernelspec": {
   "display_name": ".venv",
   "language": "python",
   "name": "python3"
  },
  "language_info": {
   "codemirror_mode": {
    "name": "ipython",
    "version": 3
   },
   "file_extension": ".py",
   "mimetype": "text/x-python",
   "name": "python",
   "nbconvert_exporter": "python",
   "pygments_lexer": "ipython3",
   "version": "3.13.2"
  }
 },
 "nbformat": 4,
 "nbformat_minor": 2
}
