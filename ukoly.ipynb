{
 "cells": [
  {
   "cell_type": "markdown",
   "metadata": {},
   "source": [
    "### Převod číslic pomocí slovníku\n",
    "Vytvořte funkci, která vezme jako vstup číslici a vrátí slovní reprezentaci dané číslice. Příklad 1 -> \"jedna\""
   ]
  },
  {
   "cell_type": "code",
   "execution_count": 1,
   "metadata": {},
   "outputs": [],
   "source": [
    "prevod_cislice_na_text = {0: \"nula\",\n",
    "                          1: \"jedna\",\n",
    "                          2: \"dvě\",\n",
    "                          3: \"tři\",\n",
    "                          4: \"čtyři\",\n",
    "                          5: \"pět\",\n",
    "                          6: \"šest\",\n",
    "                          7: \"sedm\",\n",
    "                          8: \"osm\",\n",
    "                          9: \"devět\"}"
   ]
  },
  {
   "cell_type": "code",
   "execution_count": 9,
   "metadata": {},
   "outputs": [],
   "source": [
    "cislice = input(\"Zadej číslici: \")"
   ]
  },
  {
   "cell_type": "code",
   "execution_count": 10,
   "metadata": {},
   "outputs": [
    {
     "name": "stdout",
     "output_type": "stream",
     "text": [
      "Slovní interpretace '5' je 'pět'.\n"
     ]
    }
   ],
   "source": [
    "if cislice.isnumeric():\n",
    "    cislice = int(cislice)\n",
    "    if 0 <= cislice <= 9:\n",
    "        print(f\"Slovní interpretace '{cislice}' je '{prevod_cislice_na_text[cislice]}'.\")\n",
    "    else:\n",
    "        print(f\"'{cislice}' je sice číslo, ale není to číslice!\")\n",
    "else:\n",
    "    print(f\"'{cislice}' není číslice!\")"
   ]
  },
  {
   "cell_type": "markdown",
   "metadata": {},
   "source": [
    "### Nekonečná smyčka\n",
    "Umístěte input do smyčky a nenechte uživatele nezadat vstup. Pokud vstup nebude zadán, vyzvěte jej znovu. Bonus: s každou další iterací přidejte na konec výzvy vykřičník."
   ]
  },
  {
   "cell_type": "code",
   "execution_count": null,
   "metadata": {},
   "outputs": [
    {
     "name": "stdout",
     "output_type": "stream",
     "text": [
      "Jméno nezadáno\n",
      "Jméno nezadáno\n",
      "Jméno nezadáno\n",
      "Jméno nezadáno\n",
      "Jméno nezadáno\n",
      "Jméno nezadáno\n",
      "Jméno nezadáno\n",
      "Jméno nezadáno\n",
      "Jméno nezadáno\n",
      "Jméno nezadáno\n",
      "Jméno nezadáno\n",
      "Jméno nezadáno\n",
      "Jméno nezadáno\n",
      "Jméno nezadáno\n",
      "Jméno nezadáno\n",
      "Jméno nezadáno\n",
      "Jméno nezadáno\n",
      "Jméno nezadáno\n",
      "Zadané jméno 'Michal'.\n"
     ]
    }
   ],
   "source": [
    "# vyzva -> potřebuji v proměnné, protože ji hodlám dynamicky měnit (křičet na uživatele)\n",
    "vyzva = \"Zadej jméno\"\n",
    "# nekonečná smyčka -> while vhodnější -> nevím kolik iterací bude potřeba\n",
    "while True:\n",
    "    jmeno = input(f\"{vyzva}: \")\n",
    "    if jmeno:\n",
    "        print(f\"Zadané jméno '{jmeno}'.\")\n",
    "        break\n",
    "    else:\n",
    "        print(\"Jméno nezadáno\")\n",
    "        # připojíme na konec výzvy vykřičník\n",
    "        vyzva += \"!\""
   ]
  },
  {
   "cell_type": "markdown",
   "metadata": {},
   "source": [
    "### Města pomocí listů\n",
    "vytvořte list s 5 městy, kdy města budou napsána malým písmem, \n",
    "upravte v druhém kroku list tak, \n",
    "že první písmeno každého města bude velké - nápověda \"abc\".capitalize()"
   ]
  },
  {
   "cell_type": "code",
   "execution_count": null,
   "metadata": {},
   "outputs": [],
   "source": [
    "# sem budu ukládat města\n",
    "mesta = []\n",
    "# 5x zopakuj\n",
    "for i in range(5):\n",
    "    # uživatel zadá město a zadané město je uloženo do listu mesta\n",
    "    mesta.append(input(\"Zadej město: \"))\n",
    "# sem budeme ukládat města s prvním velkým písmenem\n",
    "mesta_capitalize = []\n",
    "# pro každé město z měst\n",
    "for mesto in mesta:\n",
    "    # ulož do listu mesto, po tom co jsme upravili první písmeno na velké\n",
    "    mesta_capitalize.append(mesto.capitalize())\n",
    "\n",
    "print(mesta)\n",
    "print(mesta_capitalize)"
   ]
  },
  {
   "cell_type": "markdown",
   "metadata": {},
   "source": [
    "### Funkce\n",
    "Vytvořte funkci, která na vstupu vezme 3 čísla, první 2 sečte a podělí celočíselně třetím. Vrátí výsledek celočíselného dělení a zbytek po dělení (modulo). vypocti(a, b, c) -> výsledek po dělení, zbytek po dělení"
   ]
  },
  {
   "cell_type": "code",
   "execution_count": 86,
   "metadata": {},
   "outputs": [],
   "source": [
    "def vypocti(cislo_1, cislo_2, cislo_3):\n",
    "    soucet = cislo_1 + cislo_2\n",
    "    podil = soucet // cislo_3\n",
    "    zbytek = soucet % cislo_3\n",
    "    return podil, zbytek"
   ]
  },
  {
   "cell_type": "code",
   "execution_count": null,
   "metadata": {},
   "outputs": [],
   "source": [
    "vysledek_deleni, vysledek_zbytek = vypocti(13, 7, 5)"
   ]
  },
  {
   "cell_type": "code",
   "execution_count": 93,
   "metadata": {},
   "outputs": [
    {
     "data": {
      "text/plain": [
       "4"
      ]
     },
     "execution_count": 93,
     "metadata": {},
     "output_type": "execute_result"
    }
   ],
   "source": [
    "vysledek_deleni"
   ]
  },
  {
   "cell_type": "code",
   "execution_count": 94,
   "metadata": {},
   "outputs": [
    {
     "data": {
      "text/plain": [
       "0"
      ]
     },
     "execution_count": 94,
     "metadata": {},
     "output_type": "execute_result"
    }
   ],
   "source": [
    "vysledek_zbytek"
   ]
  },
  {
   "cell_type": "code",
   "execution_count": 2,
   "metadata": {},
   "outputs": [
    {
     "ename": "ModuleNotFoundError",
     "evalue": "No module named 'pandas'",
     "output_type": "error",
     "traceback": [
      "\u001b[31m---------------------------------------------------------------------------\u001b[39m",
      "\u001b[31mModuleNotFoundError\u001b[39m                       Traceback (most recent call last)",
      "\u001b[36mCell\u001b[39m\u001b[36m \u001b[39m\u001b[32mIn[2]\u001b[39m\u001b[32m, line 1\u001b[39m\n\u001b[32m----> \u001b[39m\u001b[32m1\u001b[39m \u001b[38;5;28;01mimport\u001b[39;00m\u001b[38;5;250m \u001b[39m\u001b[34;01mpandas\u001b[39;00m\n",
      "\u001b[31mModuleNotFoundError\u001b[39m: No module named 'pandas'"
     ]
    }
   ],
   "source": [
    "import pandas"
   ]
  },
  {
   "cell_type": "code",
   "execution_count": null,
   "metadata": {},
   "outputs": [],
   "source": []
  }
 ],
 "metadata": {
  "kernelspec": {
   "display_name": "Python 3",
   "language": "python",
   "name": "python3"
  },
  "language_info": {
   "codemirror_mode": {
    "name": "ipython",
    "version": 3
   },
   "file_extension": ".py",
   "mimetype": "text/x-python",
   "name": "python",
   "nbconvert_exporter": "python",
   "pygments_lexer": "ipython3",
   "version": "3.13.2"
  }
 },
 "nbformat": 4,
 "nbformat_minor": 2
}
