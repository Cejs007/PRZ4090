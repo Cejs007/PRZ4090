{
 "cells": [
  {
   "cell_type": "markdown",
   "metadata": {},
   "source": [
    "### Převod číslic pomocí slovníku\n",
    "Vytvořte funkci, která vezme jako vstup číslici a vrátí slovní reprezentaci dané číslice. Příklad 1 -> \"jedna\""
   ]
  },
  {
   "cell_type": "code",
   "execution_count": 1,
   "metadata": {},
   "outputs": [],
   "source": [
    "prevod_cislice_na_text = {0: \"nula\",\n",
    "                          1: \"jedna\",\n",
    "                          2: \"dvě\",\n",
    "                          3: \"tři\",\n",
    "                          4: \"čtyři\",\n",
    "                          5: \"pět\",\n",
    "                          6: \"šest\",\n",
    "                          7: \"sedm\",\n",
    "                          8: \"osm\",\n",
    "                          9: \"devět\"}"
   ]
  },
  {
   "cell_type": "code",
   "execution_count": 9,
   "metadata": {},
   "outputs": [],
   "source": [
    "cislice = input(\"Zadej číslici: \")"
   ]
  },
  {
   "cell_type": "code",
   "execution_count": 10,
   "metadata": {},
   "outputs": [
    {
     "name": "stdout",
     "output_type": "stream",
     "text": [
      "Slovní interpretace '5' je 'pět'.\n"
     ]
    }
   ],
   "source": [
    "if cislice.isnumeric():\n",
    "    cislice = int(cislice)\n",
    "    if 0 <= cislice <= 9:\n",
    "        print(f\"Slovní interpretace '{cislice}' je '{prevod_cislice_na_text[cislice]}'.\")\n",
    "    else:\n",
    "        print(f\"'{cislice}' je sice číslo, ale není to číslice!\")\n",
    "else:\n",
    "    print(f\"'{cislice}' není číslice!\")"
   ]
  },
  {
   "cell_type": "markdown",
   "metadata": {},
   "source": [
    "### Nekonečná smyčka\n",
    "Umístěte input do smyčky a nenechte uživatele nezadat vstup. Pokud vstup nebude zadán, vyzvěte jej znovu. Bonus: s každou další iterací přidejte na konec výzvy vykřičník."
   ]
  },
  {
   "cell_type": "code",
   "execution_count": null,
   "metadata": {},
   "outputs": [
    {
     "name": "stdout",
     "output_type": "stream",
     "text": [
      "Jméno nezadáno\n",
      "Jméno nezadáno\n",
      "Jméno nezadáno\n",
      "Jméno nezadáno\n",
      "Jméno nezadáno\n",
      "Jméno nezadáno\n",
      "Jméno nezadáno\n",
      "Jméno nezadáno\n",
      "Jméno nezadáno\n",
      "Jméno nezadáno\n",
      "Jméno nezadáno\n",
      "Jméno nezadáno\n",
      "Jméno nezadáno\n",
      "Jméno nezadáno\n",
      "Jméno nezadáno\n",
      "Jméno nezadáno\n",
      "Jméno nezadáno\n",
      "Jméno nezadáno\n",
      "Zadané jméno 'Michal'.\n"
     ]
    }
   ],
   "source": [
    "# vyzva -> potřebuji v proměnné, protože ji hodlám dynamicky měnit (křičet na uživatele)\n",
    "vyzva = \"Zadej jméno\"\n",
    "# nekonečná smyčka -> while vhodnější -> nevím kolik iterací bude potřeba\n",
    "while True:\n",
    "    jmeno = input(f\"{vyzva}: \")\n",
    "    if jmeno:\n",
    "        print(f\"Zadané jméno '{jmeno}'.\")\n",
    "        break\n",
    "    else:\n",
    "        print(\"Jméno nezadáno\")\n",
    "        # připojíme na konec výzvy vykřičník\n",
    "        vyzva += \"!\""
   ]
  },
  {
   "cell_type": "markdown",
   "metadata": {},
   "source": [
    "### Města pomocí listů\n",
    "vytvořte list s 5 městy, kdy města budou napsána malým písmem, \n",
    "upravte v druhém kroku list tak, \n",
    "že první písmeno každého města bude velké - nápověda \"abc\".capitalize()"
   ]
  },
  {
   "cell_type": "code",
   "execution_count": null,
   "metadata": {},
   "outputs": [],
   "source": [
    "# sem budu ukládat města\n",
    "mesta = []\n",
    "# 5x zopakuj\n",
    "for i in range(5):\n",
    "    # uživatel zadá město a zadané město je uloženo do listu mesta\n",
    "    mesta.append(input(\"Zadej město: \"))\n",
    "# sem budeme ukládat města s prvním velkým písmenem\n",
    "mesta_capitalize = []\n",
    "# pro každé město z měst\n",
    "for mesto in mesta:\n",
    "    # ulož do listu mesto, po tom co jsme upravili první písmeno na velké\n",
    "    mesta_capitalize.append(mesto.capitalize())\n",
    "\n",
    "print(mesta)\n",
    "print(mesta_capitalize)"
   ]
  },
  {
   "cell_type": "markdown",
   "metadata": {},
   "source": [
    "### Funkce\n",
    "Vytvořte funkci, která na vstupu vezme 3 čísla, první 2 sečte a podělí celočíselně třetím. Vrátí výsledek celočíselného dělení a zbytek po dělení (modulo). vypocti(a, b, c) -> výsledek po dělení, zbytek po dělení"
   ]
  },
  {
   "cell_type": "code",
   "execution_count": 86,
   "metadata": {},
   "outputs": [],
   "source": [
    "def vypocti(cislo_1, cislo_2, cislo_3):\n",
    "    soucet = cislo_1 + cislo_2\n",
    "    podil = soucet // cislo_3\n",
    "    zbytek = soucet % cislo_3\n",
    "    return podil, zbytek"
   ]
  },
  {
   "cell_type": "code",
   "execution_count": null,
   "metadata": {},
   "outputs": [],
   "source": [
    "vysledek_deleni, vysledek_zbytek = vypocti(13, 7, 5)\n",
    "vysledek_deleni, vysledek_zbytek"
   ]
  },
  {
   "cell_type": "markdown",
   "metadata": {},
   "source": [
    "### Importy\n",
    "Vyhledej a naimportuj knihovnu pro práci se soubory ve formátu JSON a další knihovnu pro http request volání. Google ti pomůže, stačí se zeptat.\n",
    "Podívej se jaké metody a atributy má knihovna json pomocí funkce dir()."
   ]
  },
  {
   "cell_type": "code",
   "execution_count": 30,
   "metadata": {},
   "outputs": [],
   "source": [
    "import json\n",
    "import requests"
   ]
  },
  {
   "cell_type": "code",
   "execution_count": 33,
   "metadata": {},
   "outputs": [
    {
     "data": {
      "text/plain": [
       "['JSONDecodeError',\n",
       " 'JSONDecoder',\n",
       " 'JSONEncoder',\n",
       " '__all__',\n",
       " '__author__',\n",
       " '__builtins__',\n",
       " '__cached__',\n",
       " '__doc__',\n",
       " '__file__',\n",
       " '__loader__',\n",
       " '__name__',\n",
       " '__package__',\n",
       " '__path__',\n",
       " '__spec__',\n",
       " '__version__',\n",
       " '_default_decoder',\n",
       " '_default_encoder',\n",
       " 'codecs',\n",
       " 'decoder',\n",
       " 'detect_encoding',\n",
       " 'dump',\n",
       " 'dumps',\n",
       " 'encoder',\n",
       " 'load',\n",
       " 'loads',\n",
       " 'scanner']"
      ]
     },
     "execution_count": 33,
     "metadata": {},
     "output_type": "execute_result"
    }
   ],
   "source": [
    "dir(json)"
   ]
  },
  {
   "cell_type": "markdown",
   "metadata": {},
   "source": [
    "### Vlastní range\n",
    "Naimplementujte vlastní verzi funkce range pomocí while smyčky (vytvořit sekvenci čísel s parametry: začátek, konec, krok). Výstupem bude list se sekvencí čísel."
   ]
  },
  {
   "cell_type": "code",
   "execution_count": 9,
   "metadata": {},
   "outputs": [],
   "source": [
    "def vlastni_range(start: int, stop: int, step=1) -> list:\n",
    "    '''\n",
    "    Vytvoří sekvenci čísel od start po stop s krokem step.\n",
    "    Umí jak kladný tak záporný krok.\n",
    "    '''\n",
    "    # kontroly, zda je krok nenulový -> nekonečná smyčka\n",
    "    if step == 0:\n",
    "        print(\"Krok nesmí být 0.\")\n",
    "        return []\n",
    "    # list, kam budeme zapisovat výsledky\n",
    "    vysledek = []\n",
    "    # musíme měnit logiku podle toho, zda je krok kladný nebo záporný -> jinak nekonečná smyčka\n",
    "    if step > 0:\n",
    "    # vzůstající krok\n",
    "        # dokud je start menší než stop\n",
    "        while start < stop:\n",
    "            # přidávej čísla do výsledků\n",
    "            vysledek.append(start)\n",
    "            # přičítej krok\n",
    "            start += step\n",
    "    else:\n",
    "        # klesající krok\n",
    "        while start >= stop:\n",
    "            vysledek.append(start)\n",
    "            start += step\n",
    "    return vysledek"
   ]
  },
  {
   "cell_type": "code",
   "execution_count": 10,
   "metadata": {},
   "outputs": [
    {
     "data": {
      "text/plain": [
       "[10, 7, 4, 1]"
      ]
     },
     "execution_count": 10,
     "metadata": {},
     "output_type": "execute_result"
    }
   ],
   "source": [
    "vlastni_range(10, 1, -3)"
   ]
  },
  {
   "cell_type": "code",
   "execution_count": 11,
   "metadata": {},
   "outputs": [
    {
     "data": {
      "text/plain": [
       "[10, 15, 20, 25, 30, 35, 40, 45, 50, 55, 60, 65, 70, 75, 80, 85, 90, 95]"
      ]
     },
     "execution_count": 11,
     "metadata": {},
     "output_type": "execute_result"
    }
   ],
   "source": [
    "vlastni_range(10, 100, 5)"
   ]
  },
  {
   "cell_type": "code",
   "execution_count": 12,
   "metadata": {},
   "outputs": [
    {
     "name": "stdout",
     "output_type": "stream",
     "text": [
      "Krok nesmí být 0.\n"
     ]
    },
    {
     "data": {
      "text/plain": [
       "[]"
      ]
     },
     "execution_count": 12,
     "metadata": {},
     "output_type": "execute_result"
    }
   ],
   "source": [
    "vlastni_range(10, 100, 0)"
   ]
  },
  {
   "cell_type": "markdown",
   "metadata": {},
   "source": [
    "### Svátky API"
   ]
  },
  {
   "cell_type": "code",
   "execution_count": 40,
   "metadata": {},
   "outputs": [],
   "source": [
    "import requests\n",
    "import json"
   ]
  },
  {
   "cell_type": "code",
   "execution_count": null,
   "metadata": {},
   "outputs": [],
   "source": [
    "# základ url - nemění se\n",
    "url_base = \"https://svatky.adresa.info/json?name=\"\n",
    "# zadání jména od uživatele\n",
    "jmeno = input(\"Zadej jméno: \")\n",
    "# vytvoříme finální url, které pošleme na server\n",
    "url = url_base + jmeno"
   ]
  },
  {
   "cell_type": "code",
   "execution_count": null,
   "metadata": {},
   "outputs": [],
   "source": [
    "# provedeme dotaz -> Python pošle url na server a dostane odpověď\n",
    "odpoved = requests.get(url)\n",
    "# převedeme textovou odpověď na JSON -> Python formáty (slovník v listu)\n",
    "odpoved_json = json.loads(odpoved.text)\n",
    "# takhle vypadají data\n",
    "odpoved_json"
   ]
  },
  {
   "cell_type": "code",
   "execution_count": null,
   "metadata": {},
   "outputs": [
    {
     "name": "stdout",
     "output_type": "stream",
     "text": [
      "'Michal' má svátek 29.09.\n"
     ]
    }
   ],
   "source": [
    "# formátovaný tisk výsledku\n",
    "print(f\"'{jmeno}' má svátek {odpoved_json[0]['date'][:2]}.{odpoved_json[0]['date'][2:]}.\")"
   ]
  },
  {
   "cell_type": "code",
   "execution_count": null,
   "metadata": {},
   "outputs": [
    {
     "data": {
      "text/plain": [
       "['apparent_encoding',\n",
       " 'close',\n",
       " 'connection',\n",
       " 'content',\n",
       " 'cookies',\n",
       " 'elapsed',\n",
       " 'encoding',\n",
       " 'headers',\n",
       " 'history',\n",
       " 'is_permanent_redirect',\n",
       " 'is_redirect',\n",
       " 'iter_content',\n",
       " 'iter_lines',\n",
       " 'json',\n",
       " 'links',\n",
       " 'next',\n",
       " 'ok',\n",
       " 'raise_for_status',\n",
       " 'raw',\n",
       " 'reason',\n",
       " 'request',\n",
       " 'status_code',\n",
       " 'text',\n",
       " 'url']"
      ]
     },
     "execution_count": 21,
     "metadata": {},
     "output_type": "execute_result"
    }
   ],
   "source": [
    "# pro zajímavost, co všechno v sobě má objekt odpovědi\n",
    "[atribut for atribut in dir(odpoved) if atribut[0] != \"_\"]"
   ]
  },
  {
   "cell_type": "markdown",
   "metadata": {},
   "source": [
    "### Třída Kontakt:\n",
    "\n",
    "* Naimportujte knihovny: os, pickle, json\n",
    "* Třída kontakt bude inicializována pomocí parametrů jmeno, prijmeni a firma\n",
    "* Metoda vytiskni_vizitku() vytiskne formátovaný text jména, příjmení a firmy\n",
    "* Metoda export_slovnik() bude vracet slovník obsahující údaje jméno, příjmení, firma"
   ]
  },
  {
   "cell_type": "code",
   "execution_count": 69,
   "metadata": {},
   "outputs": [],
   "source": [
    "import os\n",
    "import pickle\n",
    "import json"
   ]
  },
  {
   "cell_type": "code",
   "execution_count": 80,
   "metadata": {},
   "outputs": [],
   "source": [
    "class Kontakt:\n",
    "\n",
    "    def __init__(self, jmeno, prijmeni, firma):\n",
    "        self.jmeno = jmeno\n",
    "        self.prijmeni = prijmeni\n",
    "        self.firma = firma\n",
    "\n",
    "    def vytiskni_vizitku(self):\n",
    "        print(f\"Jméno: {self.jmeno} {self.prijmeni}\\nFirma: {self.firma}\")\n",
    "\n",
    "    def export_slovnik(self):\n",
    "        return {\"jmeno\": self.jmeno, \"prijmeni\": self.prijmeni, \"firma\": self.firma}"
   ]
  },
  {
   "cell_type": "code",
   "execution_count": 82,
   "metadata": {},
   "outputs": [],
   "source": [
    "clovek_1 = Kontakt(\"Jan\", \"Novák\", \"Novák s.r.o.\")\n",
    "clovek_2 = Kontakt(\"Mirek\", \"Jandák\", \"ČEZ a.s.\")\n",
    "clovek_3 = Kontakt(\"Zuzana\", \"Pomalá\", \"Škoda Auto a.s.\")\n",
    "clovek_4 = Kontakt(\"Nikola\", \"Rychlá\", \"Barclays Bank plc.\")\n",
    "clovek_5 = Kontakt(\"Petr\", \"Překážka\", \"Tatra\")"
   ]
  },
  {
   "cell_type": "code",
   "execution_count": 83,
   "metadata": {},
   "outputs": [
    {
     "name": "stdout",
     "output_type": "stream",
     "text": [
      "Jméno: Zuzana Pomalá\n",
      "Firma: Škoda Auto a.s.\n"
     ]
    },
    {
     "data": {
      "text/plain": [
       "{'jmeno': 'Zuzana', 'prijmeni': 'Pomalá', 'firma': 'Škoda Auto a.s.'}"
      ]
     },
     "execution_count": 83,
     "metadata": {},
     "output_type": "execute_result"
    }
   ],
   "source": [
    "clovek_3.vytiskni_vizitku()\n",
    "clovek_3.export_slovnik()"
   ]
  },
  {
   "cell_type": "code",
   "execution_count": null,
   "metadata": {},
   "outputs": [],
   "source": []
  }
 ],
 "metadata": {
  "kernelspec": {
   "display_name": ".venv",
   "language": "python",
   "name": "python3"
  },
  "language_info": {
   "codemirror_mode": {
    "name": "ipython",
    "version": 3
   },
   "file_extension": ".py",
   "mimetype": "text/x-python",
   "name": "python",
   "nbconvert_exporter": "python",
   "pygments_lexer": "ipython3",
   "version": "3.13.2"
  }
 },
 "nbformat": 4,
 "nbformat_minor": 2
}
