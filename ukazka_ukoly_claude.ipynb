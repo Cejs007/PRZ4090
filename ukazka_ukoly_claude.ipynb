{
 "cells": [
  {
   "cell_type": "markdown",
   "metadata": {},
   "source": [
    "Tyto úkoly byly získány pomocí Claude LLM modelu.\n",
    "\n",
    "prompt:\n",
    "učím se základní Python, můžeš mi vygenerovat 10 úloh s tématy if/else, datové typ, input, texty podle vzoru:\n",
    "\n",
    "Uživatel bude v konzoli vyzván \"Zadej jméno\" k zadání jména (funkce input()), program jeho vstup uloží do proměnné {jmeno} a zobrazí pomocí funkce print().\n",
    "\n",
    "Vyzvěte uživatele, aby zadal text, zkontrolujte, že má alespoň 5 znaků pomocí funkce len() a pokud ano, tak vypište, jestli má sudý nebo lichý počet znaků.\n",
    "\n",
    "link:\n",
    "https://claude.ai/chat\n"
   ]
  },
  {
   "cell_type": "markdown",
   "metadata": {},
   "source": [
    "### Úloha 1: Kontrola věku\n",
    "Vyzvěte uživatele k zadání jeho věku, uložte vstup do proměnné a pomocí podmínky if/else vypište, zda je uživatel plnoletý (18 a více let) nebo nezletilý."
   ]
  },
  {
   "cell_type": "code",
   "execution_count": null,
   "metadata": {},
   "outputs": [
    {
     "name": "stdout",
     "output_type": "stream",
     "text": [
      "Nezletilý!\n"
     ]
    }
   ],
   "source": [
    "vek = input(\"Zadej věk: \")\n",
    "if vek.isnumeric():\n",
    "    vek = int(vek)\n",
    "    if vek >= 18:\n",
    "        print(\"Plnoletý!\")\n",
    "    else:\n",
    "        print(\"Nezletilý!\")\n",
    "else:\n",
    "    print(\"Věk musí být celé číslo!\")"
   ]
  },
  {
   "cell_type": "markdown",
   "metadata": {},
   "source": [
    "### Úloha 2: Jednoduché heslo\n",
    "Vytvořte program, který se uživatele zeptá na heslo. Pokud zadá \"python123\", vypište \"Přístup povolen\", jinak vypište \"Přístup odepřen\".\n"
   ]
  },
  {
   "cell_type": "code",
   "execution_count": 6,
   "metadata": {},
   "outputs": [
    {
     "name": "stdout",
     "output_type": "stream",
     "text": [
      "Přístup povolen!\n"
     ]
    }
   ],
   "source": [
    "heslo = input(\"Zadej_heslo: \")\n",
    "if heslo == \"python123\":\n",
    "    print(\"Přístup povolen!\")\n",
    "else:\n",
    "    print(\"Přístup odepřen!\")"
   ]
  },
  {
   "cell_type": "markdown",
   "metadata": {},
   "source": [
    "### Úloha 3: Počet samohlásek\n",
    "Požádejte uživatele o zadání slova. Program spočítá a vypíše, kolik samohlásek (a, e, i, o, u, y) slovo obsahuje.\n"
   ]
  },
  {
   "cell_type": "code",
   "execution_count": null,
   "metadata": {},
   "outputs": [],
   "source": [
    "text = input(\"Zadej text: \")\n",
    "pocet_samohlasek = 0\n",
    "\n",
    "pocet_samohlasek += text.count(\"a\")\n",
    "pocet_samohlasek += text.count(\"e\")\n",
    "pocet_samohlasek += text.count(\"i\")\n",
    "pocet_samohlasek += text.count(\"o\")\n",
    "pocet_samohlasek += text.count(\"u\")\n",
    "pocet_samohlasek += text.count(\"y\")\n",
    "\n",
    "pocet_samohlasek"
   ]
  },
  {
   "cell_type": "markdown",
   "metadata": {},
   "source": [
    "### Úloha 4: Převod teploty\n",
    "Uživatel zadá teplotu ve stupních Celsia. Program převede teplotu na Fahrenheity (vzorec: F = C * 9/5 + 32) a vypíše výsledek."
   ]
  },
  {
   "cell_type": "code",
   "execution_count": 10,
   "metadata": {},
   "outputs": [
    {
     "name": "stdout",
     "output_type": "stream",
     "text": [
      "Teplota ve Fahrenheitech: 46.4\n"
     ]
    }
   ],
   "source": [
    "teplota_C = int(input(\"Zadej teplotu: \"))\n",
    "\n",
    "print(f\"Teplota ve Fahrenheitech: {teplota_C * 9/5 + 32}\")"
   ]
  }
 ],
 "metadata": {
  "kernelspec": {
   "display_name": "Python 3",
   "language": "python",
   "name": "python3"
  },
  "language_info": {
   "codemirror_mode": {
    "name": "ipython",
    "version": 3
   },
   "file_extension": ".py",
   "mimetype": "text/x-python",
   "name": "python",
   "nbconvert_exporter": "python",
   "pygments_lexer": "ipython3",
   "version": "3.13.2"
  }
 },
 "nbformat": 4,
 "nbformat_minor": 2
}
